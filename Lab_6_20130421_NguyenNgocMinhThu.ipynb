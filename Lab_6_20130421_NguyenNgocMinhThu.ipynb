{
  "nbformat": 4,
  "nbformat_minor": 0,
  "metadata": {
    "colab": {
      "provenance": [],
      "include_colab_link": true
    },
    "kernelspec": {
      "name": "python3",
      "display_name": "Python 3"
    },
    "language_info": {
      "name": "python"
    }
  },
  "cells": [
    {
      "cell_type": "markdown",
      "metadata": {
        "id": "view-in-github",
        "colab_type": "text"
      },
      "source": [
        "<a href=\"https://colab.research.google.com/github/Nguyen-Ngoc-Minh-Thu/ML2023_TV201/blob/main/Lab_6_20130421_NguyenNgocMinhThu.ipynb\" target=\"_parent\"><img src=\"https://colab.research.google.com/assets/colab-badge.svg\" alt=\"Open In Colab\"/></a>"
      ]
    },
    {
      "cell_type": "markdown",
      "source": [
        "# This lab is to deal with classification task using **Random Forests** and **Naïve Bayes** algorithms with/without **Feature Selection**. \n",
        "\n",
        "*   **Deadline: 23:59, 25/03/2023**\n",
        "\n"
      ],
      "metadata": {
        "id": "LMzehe0sy5wr"
      }
    },
    {
      "cell_type": "markdown",
      "source": [
        "# Import libraries"
      ],
      "metadata": {
        "id": "H4nJmxp9zGX4"
      }
    },
    {
      "cell_type": "code",
      "execution_count": 36,
      "metadata": {
        "id": "DoVWQ8AEyc-C",
        "colab": {
          "base_uri": "https://localhost:8080/"
        },
        "outputId": "24a8bea9-609f-4ae2-d1a0-d9d05d93677e"
      },
      "outputs": [
        {
          "output_type": "stream",
          "name": "stdout",
          "text": [
            "Drive already mounted at /content/gdrive; to attempt to forcibly remount, call drive.mount(\"/content/gdrive\", force_remount=True).\n",
            "/content/gdrive/MyDrive/ML\n"
          ]
        }
      ],
      "source": [
        "# code\n",
        "from google.colab import drive\n",
        "drive.mount('/content/gdrive')\n",
        "%cd '/content/gdrive/MyDrive/ML'\n"
      ]
    },
    {
      "cell_type": "code",
      "source": [
        "#import\n",
        "from sklearn import datasets\n",
        "from sklearn.datasets import load_iris\n",
        "from sklearn.model_selection import train_test_split\n",
        "from sklearn.preprocessing import StandardScaler\n",
        "from sklearn.feature_selection import SelectKBest\n",
        "from sklearn.feature_selection import chi2\n",
        "from sklearn.feature_selection import RFE\n",
        "from sklearn.decomposition import PCA\n",
        "from sklearn.ensemble import ExtraTreesClassifier\n",
        "from sklearn.ensemble import RandomForestClassifier\n",
        "from sklearn.naive_bayes import GaussianNB\n",
        "from sklearn.naive_bayes import CategoricalNB\n",
        "from sklearn.naive_bayes import BernoulliNB\n",
        "from sklearn.naive_bayes import MultinomialNB\n",
        "from sklearn.datasets import load_digits\n",
        "from sklearn.metrics import accuracy_score, precision_score, recall_score, f1_score\n",
        "from prettytable import PrettyTable\n",
        "from sklearn.preprocessing import OneHotEncoder\n",
        "from sklearn.tree import DecisionTreeClassifier\n",
        "from sklearn.neighbors import KNeighborsClassifier\n",
        "from sklearn.feature_selection import SelectKBest, SelectFromModel\n",
        "from sklearn.linear_model import LogisticRegression\n",
        "from sklearn import svm\n",
        "import pandas as pd\n",
        "import numpy as np"
      ],
      "metadata": {
        "id": "YI784WrU0GNb"
      },
      "execution_count": 37,
      "outputs": []
    },
    {
      "cell_type": "markdown",
      "source": [
        "#Task 1. \n",
        "Task 1. Compare the performance of selected classification algorithms including **Random forest**, **NaiveBayes**, and **SVM** with **mnist** dataset based on **accuracy, precision, recall, f1** measures according to **without using selection feature** and **using selection feature**.\n",
        "\n"
      ],
      "metadata": {
        "id": "kNv07ARGzOUm"
      }
    },
    {
      "cell_type": "code",
      "source": [
        "# code\n",
        "#load data\n",
        "mnist = datasets.load_digits()\n",
        "X = mnist.data\n",
        "y = mnist.target\n",
        "#chuan hoa data\n",
        "scaler = StandardScaler()\n",
        "X_scaler = scaler.fit_transform(X)\n",
        "X_train, X_test, y_train, y_test = train_test_split(X_scaler, y,test_size =0.3)\n",
        "#Create a Random Forest Classifier\n",
        "clf=RandomForestClassifier(n_estimators=100)\n",
        "#Train the model using the training sets\n",
        "clf.fit(X_train,y_train)\n",
        "y_pred_random = clf.predict(X_test)\n",
        "#Predict the response for test dataset\n",
        "y_pred_svm = clf.predict(X_test)\n",
        "# GaussianNB\n",
        "model = GaussianNB()\n",
        "model.fit(X_train, y_train)\n",
        "y_pred_NB = model.predict(X_test)\n",
        "#Create a svm Classifier\n",
        "clf = svm.SVC(kernel='linear') \n",
        "clf.fit(X_train, y_train)\n",
        "y_pred_linear = clf.predict(X_test)\n",
        "\n",
        "t = PrettyTable([' ', 'accuracy','precision','recall','f1_score'])\n",
        "#\n",
        "t.add_row(['Random forest', accuracy_score(y_test, y_pred_random), precision_score(y_test, y_pred_random, average='macro'), recall_score(y_test, y_pred_random, average='macro'), f1_score(y_test, y_pred_random, average='macro')])\n",
        "t.add_row(['NaiveBayes', accuracy_score(y_test, y_pred_NB), precision_score(y_test, y_pred_NB, average='macro'), recall_score(y_test, y_pred_NB, average='macro'), f1_score(y_test, y_pred_NB, average='macro')])\n",
        "t.add_row(['SVM', accuracy_score(y_test, y_pred_NB), precision_score(y_test, y_pred_NB, average='macro'), recall_score(y_test, y_pred_NB, average='macro'), f1_score(y_test, y_pred_NB, average='macro')])\n",
        "print(t)"
      ],
      "metadata": {
        "id": "sOsg77IBzEyo",
        "colab": {
          "base_uri": "https://localhost:8080/"
        },
        "outputId": "26fb777b-b321-49ab-a799-bb76e7aa5a03"
      },
      "execution_count": null,
      "outputs": [
        {
          "output_type": "stream",
          "name": "stdout",
          "text": [
            "+---------------+--------------------+--------------------+--------------------+--------------------+\n",
            "|               |      accuracy      |     precision      |       recall       |      f1_score      |\n",
            "+---------------+--------------------+--------------------+--------------------+--------------------+\n",
            "| Random forest | 0.975925925925926  | 0.9759001469600548 | 0.9765466987192346 | 0.9760899985163659 |\n",
            "|   NaiveBayes  | 0.8166666666666667 | 0.8526038045637658 | 0.8175246904012846 | 0.8154886914819848 |\n",
            "|      SVM      | 0.8166666666666667 | 0.8526038045637658 | 0.8175246904012846 | 0.8154886914819848 |\n",
            "+---------------+--------------------+--------------------+--------------------+--------------------+\n"
          ]
        }
      ]
    },
    {
      "cell_type": "markdown",
      "source": [
        "#Task 2. \n",
        "For given bank dataset (bank.csv) having the following attributes :\n",
        "1.\t**age** (numeric)\n",
        "2.\t**job** : type of job (categorical: 'admin.','blue-collar','entrepreneur','housemaid','management','retired','self-employed','services','student','technician','unemployed','unknown')\n",
        "3.\t**marital** : marital status (categorical: 'divorced','married','single','unknown'; note: 'divorced' means divorced or widowed)\n",
        "4.\t**education** (categorical: 'basic.4y','basic.6y','basic.9y','high.school','illiterate','professional.course','university.degree','unknown')\n",
        "5.\t**default**: has credit in default? (categorical: 'no','yes','unknown')\n",
        "6.\t**housing**: has housing loan? (categorical: 'no','yes','unknown')\n",
        "7.\t**loan**: has personal loan? (categorical: 'no','yes','unknown')\n",
        "8.\t**contact**: contact communication type (categorical: 'cellular','telephone')\n",
        "9.\t**month**: last contact month of year (categorical: 'jan', 'feb', 'mar', ..., 'nov', 'dec')\n",
        "10.\t**day_of_week**: last contact day of the week (categorical: 'mon','tue','wed','thu','fri')\n",
        "11.\t**duration**: last contact duration, in seconds (numeric). Important note: this attribute highly affects the output target (e.g., if duration=0 then y='no'). Yet, the duration is not known before a call is performed. Also, after the end of the call y is obviously known. Thus, this input should only be included for benchmark purposes and should be discarded if the intention is to have a realistic predictive model.\n",
        "12.\t**campaign**: number of contacts performed during this campaign and for this client (numeric, includes last contact)\n",
        "13.\t**pdays**: number of days that passed by after the client was last contacted from a previous campaign (numeric; 999 means client was not previously contacted)\n",
        "14.\t**previous**: number of contacts performed before this campaign and for this client (numeric)\n",
        "15.\t**poutcome**: outcome of the previous marketing campaign (categorical: 'failure','nonexistent','success')\n",
        "Output variable (desired target):\n",
        "16.\t**y**. has the client subscribed a term deposit? (binary: 'yes','no')\n",
        "\n"
      ],
      "metadata": {
        "id": "b52OPWPD2afi"
      }
    },
    {
      "cell_type": "code",
      "source": [
        "#code\n",
        "bank = pd.read_csv('bank.csv')\n",
        "bank.columns\n"
      ],
      "metadata": {
        "id": "SGCvWKKwDWMk",
        "colab": {
          "base_uri": "https://localhost:8080/"
        },
        "outputId": "19860602-8ab7-4ab2-f350-0ba198ceb025"
      },
      "execution_count": 6,
      "outputs": [
        {
          "output_type": "execute_result",
          "data": {
            "text/plain": [
              "Index(['age', 'job', 'marital', 'education', 'default', 'balance', 'housing',\n",
              "       'loan', 'contact', 'day', 'month', 'duration', 'campaign', 'pdays',\n",
              "       'previous', 'poutcome', 'deposit'],\n",
              "      dtype='object')"
            ]
          },
          "metadata": {},
          "execution_count": 6
        }
      ]
    },
    {
      "cell_type": "markdown",
      "source": [
        "#3.1. Apply StandardScaler() function to columns that contains numerical data ('age', 'balance', 'day', 'campaign', 'pdays', 'previous')"
      ],
      "metadata": {
        "id": "q89LEvT7dqaZ"
      }
    },
    {
      "cell_type": "code",
      "source": [
        "#code\n",
        "scaler = StandardScaler()\n",
        "bank[['age', 'balance', 'day', 'campaign',  'pdays', 'previous']] = scaler.fit_transform(bank[['age', 'balance', 'day', 'campaign',  'pdays', 'previous']])\n",
        "print(bank[['age', 'balance', 'day', 'campaign',  'pdays', 'previous']])\n",
        "     "
      ],
      "metadata": {
        "id": "8vx3mfIidu4P",
        "colab": {
          "base_uri": "https://localhost:8080/"
        },
        "outputId": "8a6a88e2-bb06-43ff-b7e3-d654526452ec"
      },
      "execution_count": 7,
      "outputs": [
        {
          "output_type": "stream",
          "name": "stdout",
          "text": [
            "            age   balance       day  campaign     pdays  previous\n",
            "0      1.491505  0.252525 -1.265746 -0.554168 -0.481184 -0.363260\n",
            "1      1.239676 -0.459974 -1.265746 -0.554168 -0.481184 -0.363260\n",
            "2     -0.019470 -0.080160 -1.265746 -0.554168 -0.481184 -0.363260\n",
            "3      1.155733  0.293762 -1.265746 -0.554168 -0.481184 -0.363260\n",
            "4      1.071790 -0.416876 -1.265746 -0.186785 -0.481184 -0.363260\n",
            "...         ...       ...       ...       ...       ...       ...\n",
            "11157 -0.691015 -0.473616  0.515650 -0.554168 -0.481184 -0.363260\n",
            "11158 -0.187357 -0.246658  0.040612  0.547981 -0.481184 -0.363260\n",
            "11159 -0.774958 -0.464934  0.396891 -0.186785 -0.481184 -0.363260\n",
            "11160  0.148416 -0.473926 -0.909466 -0.186785  1.109571  1.818332\n",
            "11161 -0.607072 -0.473926 -0.790707 -0.554168 -0.481184 -0.363260\n",
            "\n",
            "[11162 rows x 6 columns]\n"
          ]
        }
      ]
    },
    {
      "cell_type": "markdown",
      "source": [
        "#3.2. Apply Encode Categorical Value (OneHotEncoder) to transfrom categorical data to numerical data ('job', 'marital', 'education', 'default', 'housing', 'loan', 'contact', 'month', 'poutcome')"
      ],
      "metadata": {
        "id": "r7acR0TxdvY8"
      }
    },
    {
      "cell_type": "code",
      "source": [
        "#code\n",
        "columns = ['job', 'marital', 'education', 'default', 'housing', 'loan', 'contact', 'month', 'poutcome']\n",
        "encoder = OneHotEncoder(sparse=False)\n",
        "encoded_cols = encoder.fit_transform(bank[columns])\n",
        "encoded_df = pd.DataFrame(encoded_cols, columns=encoder.get_feature_names_out(columns))\n",
        "data_encoded = pd.concat([bank, encoded_df], axis=1)\n",
        "data_encoded.drop(columns, axis=1, inplace=True)\n",
        "\n",
        "print(data_encoded.head(5))"
      ],
      "metadata": {
        "id": "egtgBmAtd0um",
        "colab": {
          "base_uri": "https://localhost:8080/"
        },
        "outputId": "fbc1bf67-e785-4361-df74-dabd52a67bf9"
      },
      "execution_count": 11,
      "outputs": [
        {
          "output_type": "stream",
          "name": "stdout",
          "text": [
            "        age   balance       day  duration  campaign     pdays  previous  \\\n",
            "0  1.491505  0.252525 -1.265746      1042 -0.554168 -0.481184  -0.36326   \n",
            "1  1.239676 -0.459974 -1.265746      1467 -0.554168 -0.481184  -0.36326   \n",
            "2 -0.019470 -0.080160 -1.265746      1389 -0.554168 -0.481184  -0.36326   \n",
            "3  1.155733  0.293762 -1.265746       579 -0.554168 -0.481184  -0.36326   \n",
            "4  1.071790 -0.416876 -1.265746       673 -0.186785 -0.481184  -0.36326   \n",
            "\n",
            "  deposit  job_admin.  job_blue-collar  ...  month_jun  month_mar  month_may  \\\n",
            "0     yes         1.0              0.0  ...        0.0        0.0        1.0   \n",
            "1     yes         1.0              0.0  ...        0.0        0.0        1.0   \n",
            "2     yes         0.0              0.0  ...        0.0        0.0        1.0   \n",
            "3     yes         0.0              0.0  ...        0.0        0.0        1.0   \n",
            "4     yes         1.0              0.0  ...        0.0        0.0        1.0   \n",
            "\n",
            "   month_nov  month_oct  month_sep  poutcome_failure  poutcome_other  \\\n",
            "0        0.0        0.0        0.0               0.0             0.0   \n",
            "1        0.0        0.0        0.0               0.0             0.0   \n",
            "2        0.0        0.0        0.0               0.0             0.0   \n",
            "3        0.0        0.0        0.0               0.0             0.0   \n",
            "4        0.0        0.0        0.0               0.0             0.0   \n",
            "\n",
            "   poutcome_success  poutcome_unknown  \n",
            "0               0.0               1.0  \n",
            "1               0.0               1.0  \n",
            "2               0.0               1.0  \n",
            "3               0.0               1.0  \n",
            "4               0.0               1.0  \n",
            "\n",
            "[5 rows x 52 columns]\n"
          ]
        },
        {
          "output_type": "stream",
          "name": "stderr",
          "text": [
            "/usr/local/lib/python3.9/dist-packages/sklearn/preprocessing/_encoders.py:868: FutureWarning: `sparse` was renamed to `sparse_output` in version 1.2 and will be removed in 1.4. `sparse_output` is ignored unless you leave `sparse` to its default value.\n",
            "  warnings.warn(\n"
          ]
        }
      ]
    },
    {
      "cell_type": "markdown",
      "source": [
        "#3.3. Apply **Decision tree, Random forest, kNN, NaïveBayes** to preproceed dataset in the previous steps. Then compare the obtained results using **accuracy, precision, recall, f1** measures."
      ],
      "metadata": {
        "id": "K2Si6d69d1nh"
      }
    },
    {
      "cell_type": "code",
      "source": [
        "# Chuyen doi bien doc lap dang chuoi sang dang so\n",
        "X = pd.get_dummies(bank.drop('deposit', axis=1))\n",
        "\n",
        "X_train, X_test, y_train, y_test = train_test_split(X, bank['deposit'], test_size=0.3, random_state=3)"
      ],
      "metadata": {
        "id": "l2Y5ijX-hVSN"
      },
      "execution_count": 13,
      "outputs": []
    },
    {
      "cell_type": "code",
      "source": [
        "#code\n",
        "# code\n",
        "# Decision tree\n",
        "tree = DecisionTreeClassifier()\n",
        "tree.fit(X_train, y_train)\n",
        "y_pred_tree = tree.predict(X_test)\n",
        "\n",
        "acc_tree = accuracy_score(y_pred_tree, y_test)\n",
        "precision_tree = precision_score(y_pred_tree, y_test, average='macro')\n",
        "recall_tree = recall_score(y_pred_tree, y_test, average='macro')\n",
        "f1_tree = f1_score(y_pred_tree, y_test, average='macro')\n",
        "\n",
        "# Random forest\n",
        "rf = RandomForestClassifier(n_estimators=100)\n",
        "rf.fit(X_train, y_train)\n",
        "y_pred_rf = rf.predict(X_test)\n",
        "\n",
        "acc_rf = accuracy_score(y_pred_rf, y_test)\n",
        "precision_rf = precision_score(y_pred_rf, y_test, average='macro')\n",
        "recall_rf = recall_score(y_pred_rf, y_test, average='macro')\n",
        "f1_rf = f1_score(y_pred_rf, y_test, average='macro')\n",
        "\n",
        "# kNN\n",
        "knn = KNeighborsClassifier(n_neighbors=5)\n",
        "knn.fit(X_train, y_train)\n",
        "y_pred_knn = knn.predict(X_test)\n",
        "\n",
        "acc_knn = accuracy_score(y_pred_knn, y_test)\n",
        "precision_knn = precision_score(y_pred_knn, y_test, average='macro')\n",
        "recall_knn = recall_score(y_pred_knn, y_test, average='macro')\n",
        "f1_knn = f1_score(y_pred_knn, y_test, average='macro')\n",
        "\n",
        "# NaiveBayes\n",
        "nb = GaussianNB()\n",
        "nb.fit(X_train, y_train)\n",
        "y_pred_nb = nb.predict(X_test)\n",
        "\n",
        "acc_nb = accuracy_score(y_pred_nb, y_test)\n",
        "precision_nb = precision_score(y_pred_nb, y_test, average='macro')\n",
        "recall_nb = recall_score(y_pred_nb, y_test, average='macro')\n",
        "f1_nb = f1_score(y_pred_nb, y_test, average='macro')\n",
        "\n",
        "# Bang so sanh\n",
        "tb = PrettyTable(['Algorithm', 'Accuracy', 'Precision', 'Recall', 'F1'])\n",
        "\n",
        "tb.add_row(['Decision tree', acc_tree, precision_tree, recall_tree, f1_tree])\n",
        "tb.add_row(['Random forest', acc_rf, precision_rf, recall_rf, f1_rf])\n",
        "tb.add_row(['kNN', acc_knn, precision_knn, recall_knn, f1_knn])\n",
        "tb.add_row(['NaiveBayes', acc_nb, precision_nb, recall_nb, f1_nb])\n",
        "\n",
        "print('Without using selection feature')\n",
        "print(tb)\n",
        "     "
      ],
      "metadata": {
        "id": "Ouil-cf_d8jW",
        "colab": {
          "base_uri": "https://localhost:8080/"
        },
        "outputId": "330b094d-731d-4ad4-8750-646281139d69"
      },
      "execution_count": 18,
      "outputs": [
        {
          "output_type": "stream",
          "name": "stdout",
          "text": [
            "Without using selection feature\n",
            "+---------------+--------------------+--------------------+--------------------+--------------------+\n",
            "|   Algorithm   |      Accuracy      |     Precision      |       Recall       |         F1         |\n",
            "+---------------+--------------------+--------------------+--------------------+--------------------+\n",
            "| Decision tree | 0.7802329053448791 | 0.7787419695424205 | 0.7796989753958534 | 0.7791079231593702 |\n",
            "| Random forest | 0.8456255598686175 |  0.84769599685045  | 0.846747360703917  | 0.8455883330002407 |\n",
            "|      kNN      | 0.7656016721409376 | 0.7644328125838835 | 0.7648253992604774 | 0.764604244683401  |\n",
            "|   NaiveBayes  | 0.7049865631531801 | 0.6960711154059519 | 0.718196674430683  | 0.6937680241963846 |\n",
            "+---------------+--------------------+--------------------+--------------------+--------------------+\n"
          ]
        }
      ]
    },
    {
      "cell_type": "markdown",
      "source": [
        "#3.4. Using selection feature to above dataset, then compare the classification results with those in Task 2.3. "
      ],
      "metadata": {
        "id": "SweVRB4meApP"
      }
    },
    {
      "cell_type": "code",
      "source": [
        "#code\n",
        "sfm = SelectFromModel(rf, threshold=0.001)\n",
        "X_train = sfm.fit_transform(X_train, y_train)\n",
        "X_test = sfm.transform(X_test)\n",
        "\n",
        "# Decision tree\n",
        "tree = DecisionTreeClassifier()\n",
        "tree.fit(X_train, y_train)\n",
        "y_pred_tree = tree.predict(X_test)\n",
        "\n",
        "acc_tree = accuracy_score(y_pred_tree, y_test)\n",
        "precision_tree = precision_score(y_pred_tree, y_test, average='macro')\n",
        "recall_tree = recall_score(y_pred_tree, y_test, average='macro')\n",
        "f1_tree = f1_score(y_pred_tree, y_test, average='macro')\n",
        "\n",
        "# Random forest\n",
        "rf = RandomForestClassifier(n_estimators=100)\n",
        "rf.fit(X_train, y_train)\n",
        "y_pred_rf = rf.predict(X_test)\n",
        "\n",
        "acc_rf = accuracy_score(y_pred_rf, y_test)\n",
        "precision_rf = precision_score(y_pred_rf, y_test, average='macro')\n",
        "recall_rf = recall_score(y_pred_rf, y_test, average='macro')\n",
        "f1_rf = f1_score(y_pred_rf, y_test, average='macro')\n",
        "\n",
        "# kNN\n",
        "knn = KNeighborsClassifier(n_neighbors=5)\n",
        "knn.fit(X_train, y_train)\n",
        "y_pred_knn = knn.predict(X_test)\n",
        "\n",
        "acc_knn = accuracy_score(y_pred_knn, y_test)\n",
        "precision_knn = precision_score(y_pred_knn, y_test, average='macro')\n",
        "recall_knn = recall_score(y_pred_knn, y_test, average='macro')\n",
        "f1_knn = f1_score(y_pred_knn, y_test, average='macro')\n",
        "\n",
        "# NaiveBayes\n",
        "nb = GaussianNB()\n",
        "nb.fit(X_train, y_train)\n",
        "y_pred_nb = nb.predict(X_test)\n",
        "\n",
        "acc_nb = accuracy_score(y_pred_nb, y_test)\n",
        "precision_nb = precision_score(y_pred_nb, y_test, average='macro')\n",
        "recall_nb = recall_score(y_pred_nb, y_test, average='macro')\n",
        "f1_nb= f1_score(y_pred_nb, y_test, average='macro')\n",
        "\n",
        "# Bang so sanh\n",
        "tb2 = PrettyTable(['Algorithm', 'Accuracy', 'Precision', 'Recall', 'F1'])\n",
        "\n",
        "tb2.add_row(['Decision tree', acc_tree, precision_tree, recall_tree, f1_tree])\n",
        "tb2.add_row(['Random forest', acc_rf, precision_rf, recall_rf, f1_rf])\n",
        "tb2.add_row(['kNN', acc_knn, precision_knn, recall_knn, f1_knn])\n",
        "tb2.add_row(['NaiveBayes', acc_nb, precision_nb, recall_nb, f1_nb])\n",
        "\n",
        "print('Using selection feature')\n",
        "print(tb2)"
      ],
      "metadata": {
        "id": "seFBhqCSeC7C",
        "colab": {
          "base_uri": "https://localhost:8080/"
        },
        "outputId": "d3828f0a-939b-49e7-fb65-c89fd3010150"
      },
      "execution_count": 21,
      "outputs": [
        {
          "output_type": "stream",
          "name": "stdout",
          "text": [
            "Using selection feature\n",
            "+---------------+--------------------+--------------------+--------------------+--------------------+\n",
            "|   Algorithm   |      Accuracy      |     Precision      |       Recall       |         F1         |\n",
            "+---------------+--------------------+--------------------+--------------------+--------------------+\n",
            "| Decision tree | 0.7906837862048373 | 0.7895325781571554 | 0.7900626545387788 | 0.7897599582752617 |\n",
            "| Random forest | 0.8450283666766198 | 0.8471679103809882 | 0.8462696578514675 | 0.8449965251696236 |\n",
            "|      kNN      | 0.7656016721409376 | 0.7644328125838835 | 0.7648253992604774 | 0.764604244683401  |\n",
            "|   NaiveBayes  | 0.7049865631531801 | 0.6960711154059519 | 0.718196674430683  | 0.6937680241963846 |\n",
            "+---------------+--------------------+--------------------+--------------------+--------------------+\n"
          ]
        }
      ]
    },
    {
      "cell_type": "markdown",
      "source": [
        "#Task 4. \n",
        "For a given dataset in the Lab #5 (**credit card dataset**), perform feature selection and thencompare the performance of selected classification algorithms (Decision Tree, kNN, Logistic Regression, SVM, Random Forest and NaiveBayes) based on accuracy, precision, recall, f1 measures.\n"
      ],
      "metadata": {
        "id": "Z5pp7_h-aP2u"
      }
    },
    {
      "cell_type": "code",
      "source": [
        "# code\n",
        "dataSet = pd.read_csv(\"creditcard.csv\")\n",
        "\n",
        "X = dataSet.drop('Class', axis =1)\n",
        "y = dataSet['Class']\n",
        "#Chuan hoa du lieu\n",
        "scaler = StandardScaler()\n",
        "X_scaler = scaler.fit_transform(X)\n",
        "X_train, X_test, y_train, y_test = train_test_split(X_scaler, y, test_size = 0.3)\n",
        "\n",
        "#logistic regression\n",
        "logreg = LogisticRegression(max_iter=1000)\n",
        "logreg.fit(X_train, y_train)\n",
        "y_pred_logreg = logreg.predict(X_test)\n",
        "\n",
        "#Knn Regression\n",
        "#k=1\n",
        "knn = KNeighborsClassifier(n_neighbors=5)\n",
        "knn.fit(X_train, y_train)\n",
        "y_pred_knn = knn.predict(X_test)\n",
        "\n",
        "#Decision Tree\n",
        "clf_model = DecisionTreeClassifier(criterion=\"gini\", random_state=42,\n",
        "max_depth=3, min_samples_leaf=5) \n",
        "clf_model.fit(X_train,y_train)\n",
        "y_predict_tree = clf_model.predict(X_test)\n",
        "\n",
        "#Create a Random Forest Classifier\n",
        "clf_randomforest =RandomForestClassifier(n_estimators=100)\n",
        "clf_randomforest.fit(X_train,y_train) #Train the model using the training sets\n",
        "y_pred_random = clf_randomforest.predict(X_test)\n",
        "\n",
        "# GaussianNB\n",
        "model = GaussianNB()\n",
        "model.fit(X_train, y_train)\n",
        "y_pred_nb = model.predict(X_test)\n",
        "\n",
        "#Create a svm Classifier\n",
        "clf = svm.SVC(kernel='linear') # Linear Kernel\n",
        "clf.fit(X_train, y_train)#Train the model using the training sets\n",
        "y_pred_svm = clf.predict(X_test)#Predict the response for test dataset\n",
        "\n",
        "# these 3 are the columns of the table\n",
        "t = PrettyTable([' ', 'accuracy','precision','recall','f1_score'])\n",
        "#To insert rows\n",
        "t.add_row(['SVM',accuracy_score(y_test, y_pred_svm),precision_score(y_test, y_pred_svm, average='macro'),recall_score(y_test, y_pred_svm, average='macro'),f1_score(y_test, y_pred_svm, average='macro')])\n",
        "t.add_row(['KNN',accuracy_score(y_test, y_pred_knn), precision_score(y_test, y_pred_knn, average='macro'),recall_score(y_test, y_pred_knn, average='macro'),f1_score(y_test, y_pred_knn, average='macro')])\n",
        "t.add_row(['Logistic Regression',accuracy_score(y_test, y_pred_logreg), precision_score(y_test, y_pred_logreg, average='macro'), recall_score(y_test, y_pred_logreg, average='macro'),f1_score(y_test, y_pred_logreg, average='macro')])\n",
        "t.add_row(['Random forest',accuracy_score(y_test, y_pred_random),precision_score(y_test, y_pred_random, average='macro'),recall_score(y_test, y_pred_random, average='macro'),f1_score(y_test, y_pred_random, average='macro')])\n",
        "t.add_row(['NaiveBayes',accuracy_score(y_test, y_pred_nb), precision_score(y_test, y_pred_nb, average='macro'),recall_score(y_test, y_pred_nb, average='macro'),f1_score(y_test, y_pred_nb, average='macro')])\n",
        "t.add_row(['Decision Tree', accuracy_score(y_test, y_predict_tree),precision_score(y_test, y_predict_tree, average='macro'),recall_score(y_test, y_predict_tree, average='macro'),f1_score(y_test, y_predict_tree, average='macro')])\n",
        "print(t)"
      ],
      "metadata": {
        "id": "Rw_-8FIf2KxW",
        "colab": {
          "base_uri": "https://localhost:8080/"
        },
        "outputId": "2fd9277f-d76d-467b-b3fa-5616543ff1e4"
      },
      "execution_count": 32,
      "outputs": [
        {
          "output_type": "stream",
          "name": "stdout",
          "text": [
            "+---------------------+--------------------+--------------------+--------------------+--------------------+\n",
            "|                     |      accuracy      |     precision      |       recall       |      f1_score      |\n",
            "+---------------------+--------------------+--------------------+--------------------+--------------------+\n",
            "|         SVM         | 0.9993914071369217 | 0.9339034025332411 | 0.8808527279792051 | 0.9056447070995889 |\n",
            "|         KNN         | 0.9994967405170698 | 0.9629155065508636 | 0.8843009840402114 | 0.9199483362080592 |\n",
            "| Logistic Regression | 0.999204147794436  | 0.9377729900931757 | 0.8128489648532458 | 0.8648801081903512 |\n",
            "|    Random forest    | 0.9996137776061234 | 0.9796746196154168 | 0.9047325950639119 | 0.9390176821792835 |\n",
            "|      NaiveBayes     | 0.9775405826106293 | 0.5307781288268717 | 0.9140499686087153 | 0.5519432062944233 |\n",
            "|    Decision Tree    | 0.9992977774656788 | 0.9210254199025909 | 0.863828339439321  | 0.8903351113321369 |\n",
            "+---------------------+--------------------+--------------------+--------------------+--------------------+\n"
          ]
        }
      ]
    },
    {
      "cell_type": "code",
      "source": [
        "sfm = SelectFromModel(clf_randomforest, threshold=0.002)\n",
        "X_train = sfm.fit_transform(X_train, y_train)\n",
        "X_test = sfm.transform(X_test)\n",
        "\n",
        "#Create a Random Forest Classifier\n",
        "clf_randomforest =RandomForestClassifier(n_estimators=100)\n",
        "clf_randomforest.fit(X_train,y_train) #Train the model using the training sets\n",
        "y_pred_random = clf_randomforest.predict(X_test)\n",
        "\n",
        "# GaussianNB\n",
        "model = GaussianNB()\n",
        "model.fit(X_train, y_train)\n",
        "y_pred_nb = model.predict(X_test)\n",
        "\n",
        "#Create a svm Classifier\n",
        "clf = svm.SVC(kernel='linear') # Linear Kernel\n",
        "clf.fit(X_train, y_train)#Train the model using the training sets\n",
        "y_pred_svm = clf.predict(X_test)#Predict the response for test dataset\n",
        "\n",
        "#Decision Tree\n",
        "clf_model = DecisionTreeClassifier(criterion=\"gini\", random_state=42,\n",
        "max_depth=3, min_samples_leaf=5) \n",
        "clf_model.fit(X_train,y_train)\n",
        "y_predict_tree = clf_model.predict(X_test)\n",
        "\n",
        "#logistic regression\n",
        "logreg = LogisticRegression(max_iter=1000)\n",
        "logreg.fit(X_train, y_train)\n",
        "y_pred_logreg = logreg.predict(X_test)\n",
        "\n",
        "#Knn Regression\n",
        "#k=1\n",
        "knn = KNeighborsClassifier(n_neighbors=5)\n",
        "knn.fit(X_train, y_train)\n",
        "y_pred_knn = knn.predict(X_test)\n",
        "\n",
        "# these 3 are the columns of the table\n",
        "t = PrettyTable([' ', 'accuracy','precision','recall','f1_score'])\n",
        "#To insert rows\n",
        "t.add_row(['SVM',accuracy_score(y_test, y_pred_svm),precision_score(y_test, y_pred_svm, average='macro'),recall_score(y_test, y_pred_svm, average='macro'),f1_score(y_test, y_pred_svm, average='macro')])\n",
        "t.add_row(['KNN',accuracy_score(y_test, y_pred_knn), precision_score(y_test, y_pred_knn, average='macro'),recall_score(y_test, y_pred_knn, average='macro'),f1_score(y_test, y_pred_knn, average='macro')])\n",
        "t.add_row(['Logistic Regression',accuracy_score(y_test, y_pred_logreg), precision_score(y_test, y_pred_logreg, average='macro'), recall_score(y_test, y_pred_logreg, average='macro'),f1_score(y_test, y_pred_logreg, average='macro')])\n",
        "t.add_row(['Random forest',accuracy_score(y_test, y_pred_random),precision_score(y_test, y_pred_random, average='macro'),recall_score(y_test, y_pred_random, average='macro'),f1_score(y_test, y_pred_random, average='macro')])\n",
        "t.add_row(['NaiveBayes',accuracy_score(y_test, y_pred_nb), precision_score(y_test, y_pred_nb, average='macro'),recall_score(y_test, y_pred_nb, average='macro'),f1_score(y_test, y_pred_nb, average='macro')])\n",
        "t.add_row(['Decision Tree', accuracy_score(y_test, y_predict_tree),precision_score(y_test, y_predict_tree, average='macro'),recall_score(y_test, y_predict_tree, average='macro'),f1_score(y_test, y_predict_tree, average='macro')])\n",
        "print(t)"
      ],
      "metadata": {
        "colab": {
          "base_uri": "https://localhost:8080/"
        },
        "id": "xyVg2hBM2wqU",
        "outputId": "601f7c35-741c-4e47-e0c0-1f7eb48df642"
      },
      "execution_count": 40,
      "outputs": [
        {
          "output_type": "stream",
          "name": "stdout",
          "text": [
            "+---------------------+--------------------+--------------------+--------------------+--------------------+\n",
            "|                     |      accuracy      |     precision      |       recall       |      f1_score      |\n",
            "+---------------------+--------------------+--------------------+--------------------+--------------------+\n",
            "|         SVM         | 0.9993914071369217 | 0.9339034025332411 | 0.8808527279792051 | 0.9056447070995889 |\n",
            "|         KNN         | 0.9994967405170698 | 0.9629155065508636 | 0.8843009840402114 | 0.9199483362080592 |\n",
            "| Logistic Regression | 0.999204147794436  | 0.9377729900931757 | 0.8128489648532458 | 0.8648801081903512 |\n",
            "|    Random forest    | 0.9996371850239341 | 0.980006357243602  | 0.9115353161523473 | 0.9431325943432289 |\n",
            "|      NaiveBayes     | 0.9775405826106293 | 0.5307781288268717 | 0.9140499686087153 | 0.5519432062944233 |\n",
            "|    Decision Tree    | 0.9992977774656788 | 0.9210254199025909 | 0.863828339439321  | 0.8903351113321369 |\n",
            "+---------------------+--------------------+--------------------+--------------------+--------------------+\n"
          ]
        }
      ]
    },
    {
      "cell_type": "markdown",
      "source": [
        "#Finally,\n",
        "Save a copy in your Github. Remember renaming the notebook."
      ],
      "metadata": {
        "id": "Ok7RGkea_b7n"
      }
    }
  ]
}